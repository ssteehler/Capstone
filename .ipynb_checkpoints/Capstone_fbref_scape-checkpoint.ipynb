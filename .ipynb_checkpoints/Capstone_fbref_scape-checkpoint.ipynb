{
 "cells": [
  {
   "cell_type": "markdown",
   "id": "4c59b7b3-9968-4d60-8a5c-78bdb7658039",
   "metadata": {},
   "source": [
    "## Scrape player statistics from fbref.com\n",
    "* Needs to be at a game level with dates, so only stats from before the all-star game (mid-season, usually August)\n",
    "* Features need to be the same for all years"
   ]
  },
  {
   "cell_type": "code",
   "execution_count": null,
   "id": "f2ef0ecd-bb6f-44f4-a822-741095fb76f3",
   "metadata": {},
   "outputs": [],
   "source": [
    "# Packages\n",
    "from bs4 import BeautifulSoup\n",
    "import requests\n",
    "import re\n",
    "import pandas as pd\n",
    "import numpy as np"
   ]
  },
  {
   "cell_type": "code",
   "execution_count": null,
   "id": "57a5c865-e6c3-4833-9796-b97a98d32c73",
   "metadata": {},
   "outputs": [],
   "source": [
    "# Import Player Summary Stats and Separate GK (Goalkeepers need to be separate due to different statistics than field players)\n",
    "# Lists of players that participated in each season available for download on fbref\n",
    "## 2022\n",
    "players_summary_22 = pd.read_csv('C:/Users/scott/OneDrive/BANA/Capstone/Data/mls_22_player_stats.csv', skiprows=1, encoding = 'iso-8859-1')\n",
    "players_summary_22_FP = players_summary_22.loc[players_summary_22['Pos'] != 'GK']\n",
    "players_summary_22_GK = players_summary_22.loc[players_summary_22['Pos'] == 'GK']\n",
    "## 2021\n",
    "players_summary_21 = pd.read_csv('C:/Users/scott/OneDrive/BANA/Capstone/Data/mls_21_player_stats.csv', skiprows=1, encoding = 'iso-8859-1')\n",
    "players_summary_21_FP = players_summary_21.loc[players_summary_21['Pos'] != 'GK']\n",
    "players_summary_21_GK = players_summary_21.loc[players_summary_21['Pos'] == 'GK']\n",
    "## 2020\n",
    "players_summary_20 = pd.read_csv('C:/Users/scott/OneDrive/BANA/Capstone/Data/mls_20_player_stats.csv', skiprows=1, encoding = 'iso-8859-1')\n",
    "players_summary_20_FP = players_summary_20.loc[players_summary_20['Pos'] != 'GK']\n",
    "players_summary_20_GK = players_summary_20.loc[players_summary_20['Pos'] == 'GK']\n",
    "## 2019\n",
    "players_summary_19 = pd.read_csv('C:/Users/scott/OneDrive/BANA/Capstone/Data/mls_19_player_stats.csv', skiprows=1, encoding = 'iso-8859-1')\n",
    "players_summary_19_FP = players_summary_19.loc[players_summary_19['Pos'] != 'GK']\n",
    "players_summary_19_GK = players_summary_19.loc[players_summary_19['Pos'] == 'GK']\n",
    "## 2018\n",
    "players_summary_18 = pd.read_csv('C:/Users/scott/OneDrive/BANA/Capstone/Data/mls_18_player_stats.csv', skiprows=1, encoding = 'iso-8859-1')\n",
    "players_summary_18_FP = players_summary_18.loc[players_summary_18['Pos'] != 'GK']\n",
    "players_summary_18_GK = players_summary_18.loc[players_summary_18['Pos'] == 'GK']\n",
    "## 2017\n",
    "players_summary_17 = pd.read_csv('C:/Users/scott/OneDrive/BANA/Capstone/Data/mls_17_player_stats.csv', skiprows=1, encoding = 'iso-8859-1')\n",
    "players_summary_17_FP = players_summary_17.loc[players_summary_17['Pos'] != 'GK']\n",
    "players_summary_17_GK = players_summary_17.loc[players_summary_17['Pos'] == 'GK']"
   ]
  },
  {
   "cell_type": "code",
   "execution_count": null,
   "id": "16ddbde5-2eed-4ec2-9761-f7323bfbf549",
   "metadata": {},
   "outputs": [],
   "source": [
    "# Extract Player Summary Stats URLs\n",
    "## fbref_id stored in '-9999' field\n",
    "## all seasons follow the same url structure\n",
    "\n",
    "## 2022\n",
    "players_summary_22_urls = pd.unique(players_summary_22_FP['-9999']).tolist()\n",
    "players_summary_22_urls = ['https://fbref.com/en/players/' + i + '/matchlogs/2022/summary#matchlogs_all' for i in players_summary_22_urls]\n",
    "players_summary_22_GK_urls = pd.unique(players_summary_22_GK['-9999']).tolist()\n",
    "players_summary_22_GK_urls = ['https://fbref.com/en/players/' + i + '/matchlogs/2022/summary#matchlogs_all' for i in players_summary_22_GK_urls]\n",
    "## 2021\n",
    "players_summary_21_urls = pd.unique(players_summary_21_FP['-9999']).tolist()\n",
    "players_summary_21_urls = ['https://fbref.com/en/players/' + i + '/matchlogs/2021/summary#matchlogs_all' for i in players_summary_21_urls]\n",
    "players_summary_21_GK_urls = pd.unique(players_summary_21_GK['-9999']).tolist()\n",
    "players_summary_21_GK_urls = ['https://fbref.com/en/players/' + i + '/matchlogs/2021/summary#matchlogs_all' for i in players_summary_21_GK_urls]\n",
    "## 2020\n",
    "players_summary_20_urls = pd.unique(players_summary_20_FP['-9999']).tolist()\n",
    "players_summary_20_urls = ['https://fbref.com/en/players/' + i + '/matchlogs/2020/summary#matchlogs_all' for i in players_summary_20_urls]\n",
    "players_summary_20_GK_urls = pd.unique(players_summary_20_GK['-9999']).tolist()\n",
    "players_summary_20_GK_urls = ['https://fbref.com/en/players/' + i + '/matchlogs/2020/summary#matchlogs_all' for i in players_summary_20_GK_urls]\n",
    "## 2019\n",
    "players_summary_19_urls = pd.unique(players_summary_19_FP['-9999']).tolist()\n",
    "players_summary_19_urls = ['https://fbref.com/en/players/' + i + '/matchlogs/2019/summary#matchlogs_all' for i in players_summary_19_urls]\n",
    "players_summary_19_GK_urls = pd.unique(players_summary_19_GK['-9999']).tolist()\n",
    "players_summary_19_GK_urls = ['https://fbref.com/en/players/' + i + '/matchlogs/2019/summary#matchlogs_all' for i in players_summary_19_GK_urls]\n",
    "## 2018\n",
    "players_summary_18_urls = pd.unique(players_summary_18_FP['-9999']).tolist()\n",
    "players_summary_18_urls = ['https://fbref.com/en/players/' + i + '/matchlogs/2018/summary#matchlogs_all' for i in players_summary_18_urls]\n",
    "players_summary_18_GK_urls = pd.unique(players_summary_18_GK['-9999']).tolist()\n",
    "players_summary_18_GK_urls = ['https://fbref.com/en/players/' + i + '/matchlogs/2018/summary#matchlogs_all' for i in players_summary_18_GK_urls]\n",
    "## 2017\n",
    "players_summary_17_urls = pd.unique(players_summary_17_FP['-9999']).tolist()\n",
    "players_summary_17_urls = ['https://fbref.com/en/players/' + i + '/matchlogs/2017/summary#matchlogs_all' for i in players_summary_17_urls]\n",
    "players_summary_17_GK_urls = pd.unique(players_summary_17_GK['-9999']).tolist()\n",
    "players_summary_17_GK_urls = ['https://fbref.com/en/players/' + i + '/matchlogs/2017/summary#matchlogs_all' for i in players_summary_17_GK_urls]\n",
    "\n",
    "## Save off \n",
    "urls = ['players_summary_21_urls', \n",
    "        'players_summary_21_GK_urls', \n",
    "        'players_summary_20_urls',\n",
    "        'players_summary_20_GK_urls',\n",
    "        'players_summary_19_urls',\n",
    "        'players_summary_19_GK_urls',\n",
    "        'players_summary_18_urls',\n",
    "        'players_summary_18_GK_urls',\n",
    "        'players_summary_17_urls',\n",
    "        'players_summary_17_GK_urls']\n"
   ]
  },
  {
   "cell_type": "code",
   "execution_count": null,
   "id": "2498c520-f1cf-4ed1-b4dc-69586ab45aa2",
   "metadata": {},
   "outputs": [],
   "source": [
    "# Function \n",
    "def player_stats(urls): \n",
    "    stats = pd.DataFrame()\n",
    "    for l in urls:\n",
    "        page = requests.get(l)\n",
    "        soup = BeautifulSoup(page.text, 'lxml')\n",
    "        table = soup.find('table', id='matchlogs_all')\n",
    "        ID = l[29:37] # extract FBRef ID unique to player\n",
    "        # Define Fields\n",
    "        headers = []\n",
    "        for k in table.find_all('th', class_ = ['poptip center group_start','poptip center','poptip hide_non_quals center']):\n",
    "            title = k.text\n",
    "            headers.append(title)\n",
    "        # DF for loop\n",
    "        data = pd.DataFrame(columns = headers)\n",
    "        # Loop to fill data\n",
    "        for j in table.find_all('tr', {'class':''})[1:]:\n",
    "            row_data = j.find_all(['th','td'])\n",
    "            row = [i.text for i in row_data]\n",
    "            length = len(data)\n",
    "            data.loc[length] = row\n",
    "        data = data.loc[data['Comp'] == 'MLS']\n",
    "        data['fbref_ID'] = ID\n",
    "        try:\n",
    "            stats = pd.concat([stats,data], axis = 0, verify_integrity = True, ignore_index = True)\n",
    "        except ValueError as e:\n",
    "            print('ValueError', e)\n",
    "    stats['Win_Loss_Draw'] = stats['Result'].str[0]\n",
    "    stats['Date'] = pd.to_datetime(stats['Date'], format = '%Y/%m/%d')\n",
    "    stats['Season'] = stats['Date'].dt.year # MLS seasons run within the calendar year \n",
    "    AS_dict = {2022:'2022-08-10', 2021:'2021-08-21', 2019:'2019-07-31', 2018:'2018-08-01', 2017:'2017-08-02'} # 2020 all star game cancelled due to COVID\n",
    "    stats['Before_All_Star'] = stats['Date'] < stats['Season'].map(AS_dict) \n",
    "    return stats"
   ]
  },
  {
   "cell_type": "markdown",
   "id": "a4bacd67-3ccf-4576-9f0c-8ecda5dac146",
   "metadata": {},
   "source": [
    "**Scrape needed to be separated into multiple batches due to website traffic restrictions and connection being frequently truncated**\n",
    "\n",
    "*Since scraping this data early in Fall 2022, FBref.com has changed their data scraping policies. At the time of download, the practice was allowed, so long as it did not create too much traffic and that the data was not being used for a commercial purpose. The parent company of FBref.com, StatsBomb, sells commerical data that is significantly enhnaced beyound the publically availble data. In October 2022, FBref.com removed their guidelines allowing for web scrapping. There is not an explicit ban on web scrapping, but the website integrated CloudFlare's services that monitor and inhibit automated interactions with the website. Since this integration, large scrape are quickly interrupted and the IP is temporarily blacklisted.*"
   ]
  },
  {
   "cell_type": "code",
   "execution_count": null,
   "id": "f5cb6b81-1f49-4dea-8a60-bac234af47c1",
   "metadata": {},
   "outputs": [],
   "source": [
    "# Build GK Stats (1/2)\n",
    "S22_GK_stats = player_stats(players_summary_22_GK_urls)\n",
    "S22_GK_stats.to_csv('S22_GK_stats.csv')\n",
    "S21_GK_stats = player_stats(players_summary_21_GK_urls)\n",
    "S21_GK_stats.to_csv('S21_GK_stats.csv')\n",
    "S20_GK_stats = player_stats(players_summary_20_GK_urls)\n",
    "S20_GK_stats.to_csv('S20_GK_stats.csv')"
   ]
  },
  {
   "cell_type": "code",
   "execution_count": null,
   "id": "79cc717a-1bec-451d-aeda-f004a5178d6e",
   "metadata": {},
   "outputs": [],
   "source": [
    "players_summary_22_GK_urls"
   ]
  },
  {
   "cell_type": "code",
   "execution_count": null,
   "id": "b59fedc0-1dec-4833-9e3a-c3aa81cbcb27",
   "metadata": {},
   "outputs": [],
   "source": [
    "# Build GK Stats (2/2)\n",
    "S19_GK_stats = player_stats(players_summary_19_GK_urls)\n",
    "S19_GK_stats.to_csv('S19_GK_stats.csv')\n",
    "S18_GK_stats = player_stats(players_summary_18_GK_urls)\n",
    "S18_GK_stats.to_csv('S18_GK_stats.csv')\n",
    "S17_GK_stats = player_stats(players_summary_17_GK_urls)\n",
    "S17_GK_stats.to_csv('S17_GK_stats.csv')"
   ]
  },
  {
   "cell_type": "code",
   "execution_count": null,
   "id": "c7c98691-ff5c-4b55-aa5d-63a37b2517d6",
   "metadata": {},
   "outputs": [],
   "source": [
    "# Build Field Player Stats (1/3)\n",
    "S22_FP_stats = player_stats(players_summary_22_urls)\n",
    "S22_FP_stats.to_csv('S22_FP_stats.csv')\n",
    "S21_FP_stats = player_stats(players_summary_21_urls)\n",
    "S21_FP_stats.to_csv('S21_FP_stats.csv')"
   ]
  },
  {
   "cell_type": "code",
   "execution_count": null,
   "id": "33bdb2c7-fb2a-4f6f-826d-b1f4f105f3c0",
   "metadata": {},
   "outputs": [],
   "source": [
    "# Build Field Player Stats (2/3)\n",
    "S20_FP_stats = player_stats(players_summary_20_urls)\n",
    "S20_FP_stats.to_csv('S20_FP_stats.csv')\n",
    "S19_FP_stats = player_stats(players_summary_19_urls)\n",
    "S19_FP_stats.to_csv('S19_FP_stats.csv')"
   ]
  },
  {
   "cell_type": "code",
   "execution_count": null,
   "id": "bf3499bc-a60e-47cb-910a-d3b0ce4359b4",
   "metadata": {},
   "outputs": [],
   "source": [
    "# Build Field Player Stats (3/3)\n",
    "S18_FP_stats = player_stats(players_summary_18_urls)\n",
    "S18_FP_stats.to_csv('S18_FP_stats.csv')\n",
    "S17_FP_stats = player_stats(players_summary_17_urls)\n",
    "S17_FP_stats.to_csv('S17_FP_stats.csv')"
   ]
  }
 ],
 "metadata": {
  "kernelspec": {
   "display_name": "Python 3 (ipykernel)",
   "language": "python",
   "name": "python3"
  },
  "language_info": {
   "codemirror_mode": {
    "name": "ipython",
    "version": 3
   },
   "file_extension": ".py",
   "mimetype": "text/x-python",
   "name": "python",
   "nbconvert_exporter": "python",
   "pygments_lexer": "ipython3",
   "version": "3.9.12"
  }
 },
 "nbformat": 4,
 "nbformat_minor": 5
}
