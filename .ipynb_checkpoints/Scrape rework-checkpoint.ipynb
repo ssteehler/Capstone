{
 "cells": [
  {
   "cell_type": "code",
   "execution_count": 1,
   "id": "0fabb330-ef97-41d3-b88a-bf35a7561f44",
   "metadata": {},
   "outputs": [],
   "source": [
    "# Packages\n",
    "from bs4 import BeautifulSoup\n",
    "import requests\n",
    "import re\n",
    "import pandas as pd\n",
    "import numpy as np"
   ]
  },
  {
   "cell_type": "code",
   "execution_count": 24,
   "id": "1f74f6e7-c905-402a-9f6f-4cf3b481ce13",
   "metadata": {},
   "outputs": [],
   "source": [
    "players_summary_21 = pd.read_csv('C:/Users/scott/OneDrive/BANA/Capstone/Data/mls_21_player_stats.csv', skiprows=1, encoding = 'iso-8859-1')\n",
    "players_summary_21_FP = players_summary_21.loc[players_summary_21['Pos'] != 'GK']\n",
    "\n",
    "players_summary_21_urls = pd.unique(players_summary_21_FP['-9999']).tolist()\n",
    "players_summary_21_urls = ['https://fbref.com/en/players/'+i+'/matchlogs/2021/summary#matchlogs_all' for i in players_summary_21_urls]"
   ]
  },
  {
   "cell_type": "code",
   "execution_count": 28,
   "id": "cc074e99-425f-4734-8fd1-b49488b6004c",
   "metadata": {},
   "outputs": [],
   "source": [
    "urls = players_summary_21_urls[0:1]"
   ]
  },
  {
   "cell_type": "code",
   "execution_count": 34,
   "id": "0a4cc30a-2f76-4f07-827f-91c7b7687420",
   "metadata": {},
   "outputs": [],
   "source": [
    "stats = pd.DataFrame()\n",
    "for l in urls:\n",
    "    page = requests.get(l)\n",
    "    soup = BeautifulSoup(page.text, 'lxml')\n",
    "    table = soup.find('table', id='matchlogs_all')"
   ]
  },
  {
   "cell_type": "code",
   "execution_count": 35,
   "id": "4d11f10a-4d52-47d9-8410-63c0ab0d98cd",
   "metadata": {},
   "outputs": [
    {
     "data": {
      "text/plain": [
       "<Response [429]>"
      ]
     },
     "execution_count": 35,
     "metadata": {},
     "output_type": "execute_result"
    }
   ],
   "source": [
    "page"
   ]
  },
  {
   "cell_type": "code",
   "execution_count": 32,
   "id": "341e2cc8-160d-4f7f-8b23-b992e8a49be8",
   "metadata": {},
   "outputs": [],
   "source": [
    "def player_stats(urls): \n",
    "    stats = pd.DataFrame()\n",
    "    for l in urls:\n",
    "        page = requests.get(l)\n",
    "        soup = BeautifulSoup(page.text, 'lxml')\n",
    "        table = soup.find('table', id='matchlogs_all')\n",
    "        ID = l[29:37] # extract FBRef ID unique to player\n",
    "        # Define Fields\n",
    "        headers = []\n",
    "        for k in table.find_all('th', class_ = ['poptip center group_start','poptip center','poptip hide_non_quals center']):\n",
    "            title = k.text\n",
    "            headers.append(title)\n",
    "        # DF for loop\n",
    "        data = pd.DataFrame(columns = headers)\n",
    "        # Loop to fill data\n",
    "        for j in table.find_all('tr', {'class':''})[1:]:\n",
    "            row_data = j.find_all(['th','td'])\n",
    "            row = [i.text for i in row_data]\n",
    "            length = len(data)\n",
    "            data.loc[length] = row\n",
    "        data = data.loc[data['Comp'] == 'MLS']\n",
    "        data['fbref_ID'] = ID\n",
    "        try:\n",
    "            stats = pd.concat([stats,data], axis = 0, verify_integrity = True, ignore_index = True)\n",
    "        except ValueError as e:\n",
    "            print('ValueError', e)\n",
    "    stats['Win_Loss_Draw'] = stats['Result'].str[0]\n",
    "    stats['Date'] = pd.to_datetime(stats['Date'], format = '%Y/%m/%d')\n",
    "    stats['Season'] = stats['Date'].dt.year # MLS seasons run within the calendar year \n",
    "    AS_dict = {2022:'2022-08-10', 2021:'2021-08-21', 2019:'2019-07-31', 2018:'2018-08-01'} # 2020 all star game cancelled due to COVID\n",
    "    stats['Before_All_Star'] = stats['Date'] < stats['Season'].map(AS_dict) \n",
    "    return stats"
   ]
  },
  {
   "cell_type": "code",
   "execution_count": 33,
   "id": "dc503386-fd35-4660-a7fa-7d43f702bb50",
   "metadata": {},
   "outputs": [
    {
     "ename": "AttributeError",
     "evalue": "'NoneType' object has no attribute 'find_all'",
     "output_type": "error",
     "traceback": [
      "\u001b[1;31m---------------------------------------------------------------------------\u001b[0m",
      "\u001b[1;31mAttributeError\u001b[0m                            Traceback (most recent call last)",
      "Input \u001b[1;32mIn [33]\u001b[0m, in \u001b[0;36m<cell line: 1>\u001b[1;34m()\u001b[0m\n\u001b[1;32m----> 1\u001b[0m test \u001b[38;5;241m=\u001b[39m \u001b[43mplayer_stats\u001b[49m\u001b[43m(\u001b[49m\u001b[43mplayers_summary_21_urls\u001b[49m\u001b[43m)\u001b[49m\n",
      "Input \u001b[1;32mIn [32]\u001b[0m, in \u001b[0;36mplayer_stats\u001b[1;34m(urls)\u001b[0m\n\u001b[0;32m      8\u001b[0m \u001b[38;5;66;03m# Define Fields\u001b[39;00m\n\u001b[0;32m      9\u001b[0m headers \u001b[38;5;241m=\u001b[39m []\n\u001b[1;32m---> 10\u001b[0m \u001b[38;5;28;01mfor\u001b[39;00m k \u001b[38;5;129;01min\u001b[39;00m \u001b[43mtable\u001b[49m\u001b[38;5;241;43m.\u001b[39;49m\u001b[43mfind_all\u001b[49m(\u001b[38;5;124m'\u001b[39m\u001b[38;5;124mth\u001b[39m\u001b[38;5;124m'\u001b[39m, class_ \u001b[38;5;241m=\u001b[39m [\u001b[38;5;124m'\u001b[39m\u001b[38;5;124mpoptip center group_start\u001b[39m\u001b[38;5;124m'\u001b[39m,\u001b[38;5;124m'\u001b[39m\u001b[38;5;124mpoptip center\u001b[39m\u001b[38;5;124m'\u001b[39m,\u001b[38;5;124m'\u001b[39m\u001b[38;5;124mpoptip hide_non_quals center\u001b[39m\u001b[38;5;124m'\u001b[39m]):\n\u001b[0;32m     11\u001b[0m     title \u001b[38;5;241m=\u001b[39m k\u001b[38;5;241m.\u001b[39mtext\n\u001b[0;32m     12\u001b[0m     headers\u001b[38;5;241m.\u001b[39mappend(title)\n",
      "\u001b[1;31mAttributeError\u001b[0m: 'NoneType' object has no attribute 'find_all'"
     ]
    }
   ],
   "source": [
    "test = player_stats(players_summary_21_urls)"
   ]
  },
  {
   "cell_type": "code",
   "execution_count": 10,
   "id": "d6a89e9c-3d93-4700-b141-391bad60988e",
   "metadata": {},
   "outputs": [],
   "source": [
    "test.to_csv('C:/Users/scott/OneDrive/BANA/Capstone/Data/test2.csv')"
   ]
  },
  {
   "cell_type": "code",
   "execution_count": 31,
   "id": "20776bdf-077d-44a2-a00f-3521a40e68f6",
   "metadata": {},
   "outputs": [
    {
     "data": {
      "text/plain": [
       "['https://fbref.com/en/players/4cd41883/matchlogs/2021/summary#matchlogs_all']"
      ]
     },
     "execution_count": 31,
     "metadata": {},
     "output_type": "execute_result"
    }
   ],
   "source": [
    "urls"
   ]
  },
  {
   "cell_type": "code",
   "execution_count": null,
   "id": "eaf0a3ef-e7c0-4c24-b071-56df84a1162f",
   "metadata": {},
   "outputs": [],
   "source": []
  }
 ],
 "metadata": {
  "kernelspec": {
   "display_name": "Python 3 (ipykernel)",
   "language": "python",
   "name": "python3"
  },
  "language_info": {
   "codemirror_mode": {
    "name": "ipython",
    "version": 3
   },
   "file_extension": ".py",
   "mimetype": "text/x-python",
   "name": "python",
   "nbconvert_exporter": "python",
   "pygments_lexer": "ipython3",
   "version": "3.9.12"
  }
 },
 "nbformat": 4,
 "nbformat_minor": 5
}
