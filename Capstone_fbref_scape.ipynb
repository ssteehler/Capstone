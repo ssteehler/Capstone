{
 "cells": [
  {
   "cell_type": "code",
   "execution_count": 1,
   "id": "f2ef0ecd-bb6f-44f4-a822-741095fb76f3",
   "metadata": {},
   "outputs": [],
   "source": [
    "# Packages\n",
    "from bs4 import BeautifulSoup\n",
    "import requests\n",
    "import re\n",
    "import pandas as pd\n",
    "import numpy as np"
   ]
  },
  {
   "cell_type": "code",
   "execution_count": 5,
   "id": "57a5c865-e6c3-4833-9796-b97a98d32c73",
   "metadata": {},
   "outputs": [],
   "source": [
    "# Import Player Summary Stats and Separate GK\n",
    "## 2022\n",
    "players_summary_22 = pd.read_csv('C:/Users/scott/OneDrive/BANA/Capstone/Data/mls_22_player_stats.csv', skiprows=1, encoding = 'iso-8859-1')\n",
    "players_summary_22_FP = players_summary_22.loc[players_summary_22['Pos'] != 'GK']\n",
    "players_summary_22_GK = players_summary_22.loc[players_summary_22['Pos'] == 'GK']\n",
    "## 2021\n",
    "players_summary_21 = pd.read_csv('C:/Users/scott/OneDrive/BANA/Capstone/Data/mls_21_player_stats.csv', skiprows=1, encoding = 'iso-8859-1')\n",
    "players_summary_21_FP = players_summary_21.loc[players_summary_21['Pos'] != 'GK']\n",
    "players_summary_21_GK = players_summary_21.loc[players_summary_21['Pos'] == 'GK']\n",
    "## 2020\n",
    "players_summary_20 = pd.read_csv('C:/Users/scott/OneDrive/BANA/Capstone/Data/mls_20_player_stats.csv', skiprows=1, encoding = 'iso-8859-1')\n",
    "players_summary_20_FP = players_summary_20.loc[players_summary_20['Pos'] != 'GK']\n",
    "players_summary_20_GK = players_summary_20.loc[players_summary_20['Pos'] == 'GK']\n",
    "## 2019\n",
    "players_summary_19 = pd.read_csv('C:/Users/scott/OneDrive/BANA/Capstone/Data/mls_19_player_stats.csv', skiprows=1, encoding = 'iso-8859-1')\n",
    "players_summary_19_FP = players_summary_19.loc[players_summary_19['Pos'] != 'GK']\n",
    "players_summary_19_GK = players_summary_19.loc[players_summary_19['Pos'] == 'GK']\n",
    "## 2018\n",
    "players_summary_18 = pd.read_csv('C:/Users/scott/OneDrive/BANA/Capstone/Data/mls_18_player_stats.csv', skiprows=1, encoding = 'iso-8859-1')\n",
    "players_summary_18_FP = players_summary_18.loc[players_summary_18['Pos'] != 'GK']\n",
    "players_summary_18_GK = players_summary_18.loc[players_summary_18['Pos'] == 'GK']\n",
    "## 2017\n",
    "players_summary_17 = pd.read_csv('C:/Users/scott/OneDrive/BANA/Capstone/Data/mls_17_player_stats.csv', skiprows=1, encoding = 'iso-8859-1')\n",
    "players_summary_17_FP = players_summary_17.loc[players_summary_17['Pos'] != 'GK']\n",
    "players_summary_17_GK = players_summary_17.loc[players_summary_17['Pos'] == 'GK']"
   ]
  },
  {
   "cell_type": "code",
   "execution_count": 6,
   "id": "16ddbde5-2eed-4ec2-9761-f7323bfbf549",
   "metadata": {},
   "outputs": [],
   "source": [
    "# Extract Player Summary Stats URLs\n",
    "## 2022\n",
    "players_summary_22_urls = pd.unique(players_summary_22_FP['-9999']).tolist()\n",
    "players_summary_22_urls = ['https://fbref.com/en/players/' + i + '/matchlogs/2022/summary#matchlogs_all' for i in players_summary_22_urls]\n",
    "players_summary_22_GK_urls = pd.unique(players_summary_22_GK['-9999']).tolist()\n",
    "players_summary_22_GK_urls = ['https://fbref.com/en/players/' + i + '/matchlogs/2022/summary#matchlogs_all' for i in players_summary_22_GK_urls]\n",
    "## 2021\n",
    "players_summary_21_urls = pd.unique(players_summary_21_FP['-9999']).tolist()\n",
    "players_summary_21_urls = ['https://fbref.com/en/players/' + i + '/matchlogs/2021/summary#matchlogs_all' for i in players_summary_21_urls]\n",
    "players_summary_21_GK_urls = pd.unique(players_summary_21_GK['-9999']).tolist()\n",
    "players_summary_21_GK_urls = ['https://fbref.com/en/players/' + i + '/matchlogs/2021/summary#matchlogs_all' for i in players_summary_21_GK_urls]\n",
    "## 2020\n",
    "players_summary_20_urls = pd.unique(players_summary_20_FP['-9999']).tolist()\n",
    "players_summary_20_urls = ['https://fbref.com/en/players/' + i + '/matchlogs/2020/summary#matchlogs_all' for i in players_summary_20_urls]\n",
    "players_summary_20_GK_urls = pd.unique(players_summary_20_GK['-9999']).tolist()\n",
    "players_summary_20_GK_urls = ['https://fbref.com/en/players/' + i + '/matchlogs/2020/summary#matchlogs_all' for i in players_summary_20_GK_urls]\n",
    "## 2019\n",
    "players_summary_19_urls = pd.unique(players_summary_19_FP['-9999']).tolist()\n",
    "players_summary_19_urls = ['https://fbref.com/en/players/' + i + '/matchlogs/2019/summary#matchlogs_all' for i in players_summary_19_urls]\n",
    "players_summary_19_GK_urls = pd.unique(players_summary_19_GK['-9999']).tolist()\n",
    "players_summary_19_GK_urls = ['https://fbref.com/en/players/' + i + '/matchlogs/2019/summary#matchlogs_all' for i in players_summary_19_GK_urls]\n",
    "## 2018\n",
    "players_summary_18_urls = pd.unique(players_summary_18_FP['-9999']).tolist()\n",
    "players_summary_18_urls = ['https://fbref.com/en/players/' + i + '/matchlogs/2018/summary#matchlogs_all' for i in players_summary_18_urls]\n",
    "players_summary_18_GK_urls = pd.unique(players_summary_18_GK['-9999']).tolist()\n",
    "players_summary_18_GK_urls = ['https://fbref.com/en/players/' + i + '/matchlogs/2018/summary#matchlogs_all' for i in players_summary_18_GK_urls]\n",
    "## 2017\n",
    "players_summary_17_urls = pd.unique(players_summary_17_FP['-9999']).tolist()\n",
    "players_summary_17_urls = ['https://fbref.com/en/players/' + i + '/matchlogs/2017/summary#matchlogs_all' for i in players_summary_17_urls]\n",
    "players_summary_17_GK_urls = pd.unique(players_summary_17_GK['-9999']).tolist()\n",
    "players_summary_17_GK_urls = ['https://fbref.com/en/players/' + i + '/matchlogs/2017/summary#matchlogs_all' for i in players_summary_17_GK_urls]\n",
    "\n",
    "urls = ['players_summary_21_urls', \n",
    "        'players_summary_21_GK_urls', \n",
    "        'players_summary_20_urls',\n",
    "        'players_summary_20_GK_urls',\n",
    "        'players_summary_19_urls',\n",
    "        'players_summary_19_GK_urls',\n",
    "        'players_summary_18_urls',\n",
    "        'players_summary_18_GK_urls',\n",
    "        'players_summary_17_urls',\n",
    "        'players_summary_17_GK_urls']\n"
   ]
  },
  {
   "cell_type": "code",
   "execution_count": 7,
   "id": "2498c520-f1cf-4ed1-b4dc-69586ab45aa2",
   "metadata": {},
   "outputs": [],
   "source": [
    "def player_stats(urls): \n",
    "    stats = pd.DataFrame()\n",
    "    for l in urls:\n",
    "        page = requests.get(l)\n",
    "        soup = BeautifulSoup(page.text, 'lxml')\n",
    "        table = soup.find('table', id='matchlogs_all')\n",
    "        ID = l[29:37] # extract FBRef ID unique to player\n",
    "        # Define Fields\n",
    "        headers = []\n",
    "        for k in table.find_all('th', class_ = ['poptip center group_start','poptip center','poptip hide_non_quals center']):\n",
    "            title = k.text\n",
    "            headers.append(title)\n",
    "        # DF for loop\n",
    "        data = pd.DataFrame(columns = headers)\n",
    "        # Loop to fill data\n",
    "        for j in table.find_all('tr', {'class':''})[1:]:\n",
    "            row_data = j.find_all(['th','td'])\n",
    "            row = [i.text for i in row_data]\n",
    "            length = len(data)\n",
    "            data.loc[length] = row\n",
    "        data = data.loc[data['Comp'] == 'MLS']\n",
    "        data['fbref_ID'] = ID\n",
    "        try:\n",
    "            stats = pd.concat([stats,data], axis = 0, verify_integrity = True, ignore_index = True)\n",
    "        except ValueError as e:\n",
    "            print('ValueError', e)\n",
    "    stats['Win_Loss_Draw'] = stats['Result'].str[0]\n",
    "    stats['Date'] = pd.to_datetime(stats['Date'], format = '%Y/%m/%d')\n",
    "    stats['Season'] = stats['Date'].dt.year # MLS seasons run within the calendar year \n",
    "    AS_dict = {2022:'2022-08-10', 2021:'2021-08-21', 2019:'2019-07-31', 2018:'2018-08-01'} # 2020 all star game cancelled due to COVID\n",
    "    stats['Before_All_Star'] = stats['Date'] < stats['Season'].map(AS_dict) \n",
    "    return stats"
   ]
  },
  {
   "cell_type": "markdown",
   "id": "a4bacd67-3ccf-4576-9f0c-8ecda5dac146",
   "metadata": {},
   "source": [
    "Scrape needed to be separated into multiple batches due to website restrictions and connection being frequently truncated"
   ]
  },
  {
   "cell_type": "code",
   "execution_count": 8,
   "id": "f5cb6b81-1f49-4dea-8a60-bac234af47c1",
   "metadata": {},
   "outputs": [
    {
     "ename": "AttributeError",
     "evalue": "'NoneType' object has no attribute 'find_all'",
     "output_type": "error",
     "traceback": [
      "\u001b[1;31m---------------------------------------------------------------------------\u001b[0m",
      "\u001b[1;31mAttributeError\u001b[0m                            Traceback (most recent call last)",
      "Input \u001b[1;32mIn [8]\u001b[0m, in \u001b[0;36m<cell line: 2>\u001b[1;34m()\u001b[0m\n\u001b[0;32m      1\u001b[0m \u001b[38;5;66;03m# Build GK Stats (1/2)\u001b[39;00m\n\u001b[1;32m----> 2\u001b[0m S22_GK_stats \u001b[38;5;241m=\u001b[39m \u001b[43mplayer_stats\u001b[49m\u001b[43m(\u001b[49m\u001b[43mplayers_summary_22_GK_urls\u001b[49m\u001b[43m)\u001b[49m\n\u001b[0;32m      3\u001b[0m S22_GK_stats\u001b[38;5;241m.\u001b[39mto_csv(\u001b[38;5;124m'\u001b[39m\u001b[38;5;124mS22_GK_stats.csv\u001b[39m\u001b[38;5;124m'\u001b[39m)\n\u001b[0;32m      4\u001b[0m S21_GK_stats \u001b[38;5;241m=\u001b[39m player_stats(players_summary_21_GK_urls)\n",
      "Input \u001b[1;32mIn [7]\u001b[0m, in \u001b[0;36mplayer_stats\u001b[1;34m(urls)\u001b[0m\n\u001b[0;32m      8\u001b[0m \u001b[38;5;66;03m# Define Fields\u001b[39;00m\n\u001b[0;32m      9\u001b[0m headers \u001b[38;5;241m=\u001b[39m []\n\u001b[1;32m---> 10\u001b[0m \u001b[38;5;28;01mfor\u001b[39;00m k \u001b[38;5;129;01min\u001b[39;00m \u001b[43mtable\u001b[49m\u001b[38;5;241;43m.\u001b[39;49m\u001b[43mfind_all\u001b[49m(\u001b[38;5;124m'\u001b[39m\u001b[38;5;124mth\u001b[39m\u001b[38;5;124m'\u001b[39m, class_ \u001b[38;5;241m=\u001b[39m [\u001b[38;5;124m'\u001b[39m\u001b[38;5;124mpoptip center group_start\u001b[39m\u001b[38;5;124m'\u001b[39m,\u001b[38;5;124m'\u001b[39m\u001b[38;5;124mpoptip center\u001b[39m\u001b[38;5;124m'\u001b[39m,\u001b[38;5;124m'\u001b[39m\u001b[38;5;124mpoptip hide_non_quals center\u001b[39m\u001b[38;5;124m'\u001b[39m]):\n\u001b[0;32m     11\u001b[0m     title \u001b[38;5;241m=\u001b[39m k\u001b[38;5;241m.\u001b[39mtext\n\u001b[0;32m     12\u001b[0m     headers\u001b[38;5;241m.\u001b[39mappend(title)\n",
      "\u001b[1;31mAttributeError\u001b[0m: 'NoneType' object has no attribute 'find_all'"
     ]
    }
   ],
   "source": [
    "# Build GK Stats (1/2)\n",
    "S22_GK_stats = player_stats(players_summary_22_GK_urls)\n",
    "S22_GK_stats.to_csv('S22_GK_stats.csv')\n",
    "S21_GK_stats = player_stats(players_summary_21_GK_urls)\n",
    "S21_GK_stats.to_csv('S21_GK_stats.csv')\n",
    "S20_GK_stats = player_stats(players_summary_20_GK_urls)\n",
    "S20_GK_stats.to_csv('S20_GK_stats.csv')"
   ]
  },
  {
   "cell_type": "code",
   "execution_count": 9,
   "id": "79cc717a-1bec-451d-aeda-f004a5178d6e",
   "metadata": {},
   "outputs": [
    {
     "data": {
      "text/plain": [
       "['https://fbref.com/en/players/d6aa8848/matchlogs/2022/summary#matchlogs_all',\n",
       " 'https://fbref.com/en/players/9110da2b/matchlogs/2022/summary#matchlogs_all',\n",
       " 'https://fbref.com/en/players/7fd42a85/matchlogs/2022/summary#matchlogs_all',\n",
       " 'https://fbref.com/en/players/b3b21a11/matchlogs/2022/summary#matchlogs_all',\n",
       " 'https://fbref.com/en/players/9792574e/matchlogs/2022/summary#matchlogs_all',\n",
       " 'https://fbref.com/en/players/c3a86eea/matchlogs/2022/summary#matchlogs_all',\n",
       " 'https://fbref.com/en/players/aa28a396/matchlogs/2022/summary#matchlogs_all',\n",
       " 'https://fbref.com/en/players/a71768a2/matchlogs/2022/summary#matchlogs_all',\n",
       " 'https://fbref.com/en/players/52e7f812/matchlogs/2022/summary#matchlogs_all',\n",
       " 'https://fbref.com/en/players/c4d9567d/matchlogs/2022/summary#matchlogs_all',\n",
       " 'https://fbref.com/en/players/42ba8628/matchlogs/2022/summary#matchlogs_all',\n",
       " 'https://fbref.com/en/players/ed6320b7/matchlogs/2022/summary#matchlogs_all',\n",
       " 'https://fbref.com/en/players/873fdbdf/matchlogs/2022/summary#matchlogs_all',\n",
       " 'https://fbref.com/en/players/5c07e176/matchlogs/2022/summary#matchlogs_all',\n",
       " 'https://fbref.com/en/players/ea42e480/matchlogs/2022/summary#matchlogs_all',\n",
       " 'https://fbref.com/en/players/aa133046/matchlogs/2022/summary#matchlogs_all',\n",
       " 'https://fbref.com/en/players/0d5c0218/matchlogs/2022/summary#matchlogs_all',\n",
       " 'https://fbref.com/en/players/10f6f942/matchlogs/2022/summary#matchlogs_all',\n",
       " 'https://fbref.com/en/players/1d0a0f3e/matchlogs/2022/summary#matchlogs_all',\n",
       " 'https://fbref.com/en/players/b76e1394/matchlogs/2022/summary#matchlogs_all',\n",
       " 'https://fbref.com/en/players/2f061b36/matchlogs/2022/summary#matchlogs_all',\n",
       " 'https://fbref.com/en/players/d899e3bf/matchlogs/2022/summary#matchlogs_all',\n",
       " 'https://fbref.com/en/players/012fc030/matchlogs/2022/summary#matchlogs_all',\n",
       " 'https://fbref.com/en/players/86bac87b/matchlogs/2022/summary#matchlogs_all',\n",
       " 'https://fbref.com/en/players/4d6e50d8/matchlogs/2022/summary#matchlogs_all',\n",
       " 'https://fbref.com/en/players/c164335e/matchlogs/2022/summary#matchlogs_all',\n",
       " 'https://fbref.com/en/players/53e360bb/matchlogs/2022/summary#matchlogs_all',\n",
       " 'https://fbref.com/en/players/4a8af93c/matchlogs/2022/summary#matchlogs_all',\n",
       " 'https://fbref.com/en/players/063adc5e/matchlogs/2022/summary#matchlogs_all',\n",
       " 'https://fbref.com/en/players/9903a3cb/matchlogs/2022/summary#matchlogs_all',\n",
       " 'https://fbref.com/en/players/06caac45/matchlogs/2022/summary#matchlogs_all',\n",
       " 'https://fbref.com/en/players/977791f4/matchlogs/2022/summary#matchlogs_all',\n",
       " 'https://fbref.com/en/players/e75f9dba/matchlogs/2022/summary#matchlogs_all',\n",
       " 'https://fbref.com/en/players/f352799f/matchlogs/2022/summary#matchlogs_all',\n",
       " 'https://fbref.com/en/players/ca1c6f3d/matchlogs/2022/summary#matchlogs_all',\n",
       " 'https://fbref.com/en/players/249362e9/matchlogs/2022/summary#matchlogs_all',\n",
       " 'https://fbref.com/en/players/d1f3e74b/matchlogs/2022/summary#matchlogs_all',\n",
       " 'https://fbref.com/en/players/18f0723b/matchlogs/2022/summary#matchlogs_all',\n",
       " 'https://fbref.com/en/players/cc741f50/matchlogs/2022/summary#matchlogs_all',\n",
       " 'https://fbref.com/en/players/7827a6b3/matchlogs/2022/summary#matchlogs_all',\n",
       " 'https://fbref.com/en/players/f4a12161/matchlogs/2022/summary#matchlogs_all',\n",
       " 'https://fbref.com/en/players/dba6b279/matchlogs/2022/summary#matchlogs_all',\n",
       " 'https://fbref.com/en/players/eb343262/matchlogs/2022/summary#matchlogs_all',\n",
       " 'https://fbref.com/en/players/e93972ac/matchlogs/2022/summary#matchlogs_all',\n",
       " 'https://fbref.com/en/players/901408ac/matchlogs/2022/summary#matchlogs_all',\n",
       " 'https://fbref.com/en/players/0cf321c8/matchlogs/2022/summary#matchlogs_all',\n",
       " 'https://fbref.com/en/players/6b306c92/matchlogs/2022/summary#matchlogs_all',\n",
       " 'https://fbref.com/en/players/d9178ea2/matchlogs/2022/summary#matchlogs_all',\n",
       " 'https://fbref.com/en/players/f59bd2d3/matchlogs/2022/summary#matchlogs_all',\n",
       " 'https://fbref.com/en/players/c7e14787/matchlogs/2022/summary#matchlogs_all',\n",
       " 'https://fbref.com/en/players/8827c189/matchlogs/2022/summary#matchlogs_all',\n",
       " 'https://fbref.com/en/players/6b33d86b/matchlogs/2022/summary#matchlogs_all',\n",
       " 'https://fbref.com/en/players/4598ac94/matchlogs/2022/summary#matchlogs_all',\n",
       " 'https://fbref.com/en/players/550557e1/matchlogs/2022/summary#matchlogs_all',\n",
       " 'https://fbref.com/en/players/c55a846e/matchlogs/2022/summary#matchlogs_all',\n",
       " 'https://fbref.com/en/players/3f41d25f/matchlogs/2022/summary#matchlogs_all',\n",
       " 'https://fbref.com/en/players/f01df62c/matchlogs/2022/summary#matchlogs_all',\n",
       " 'https://fbref.com/en/players/6a1940d5/matchlogs/2022/summary#matchlogs_all',\n",
       " 'https://fbref.com/en/players/c5487a34/matchlogs/2022/summary#matchlogs_all',\n",
       " 'https://fbref.com/en/players/4a51ba65/matchlogs/2022/summary#matchlogs_all',\n",
       " 'https://fbref.com/en/players/5480ae05/matchlogs/2022/summary#matchlogs_all',\n",
       " 'https://fbref.com/en/players/467f09c8/matchlogs/2022/summary#matchlogs_all',\n",
       " 'https://fbref.com/en/players/ec646e88/matchlogs/2022/summary#matchlogs_all']"
      ]
     },
     "execution_count": 9,
     "metadata": {},
     "output_type": "execute_result"
    }
   ],
   "source": [
    "players_summary_22_GK_urls"
   ]
  },
  {
   "cell_type": "code",
   "execution_count": 14,
   "id": "b59fedc0-1dec-4833-9e3a-c3aa81cbcb27",
   "metadata": {},
   "outputs": [],
   "source": [
    "# Build GK Stats (2/2)\n",
    "S19_GK_stats = player_stats(players_summary_19_GK_urls)\n",
    "S19_GK_stats.to_csv('S19_GK_stats.csv')\n",
    "S18_GK_stats = player_stats(players_summary_18_GK_urls)\n",
    "S18_GK_stats.to_csv('S18_GK_stats.csv')\n",
    "S17_GK_stats = player_stats(players_summary_17_GK_urls)\n",
    "S17_GK_stats.to_csv('S17_GK_stats.csv')"
   ]
  },
  {
   "cell_type": "code",
   "execution_count": 5,
   "id": "c7c98691-ff5c-4b55-aa5d-63a37b2517d6",
   "metadata": {},
   "outputs": [],
   "source": [
    "# Build Field Player Stats (1/3)\n",
    "S22_FP_stats = player_stats(players_summary_22_urls)\n",
    "S22_FP_stats.to_csv('S22_FP_stats.csv')\n",
    "S21_FP_stats = player_stats(players_summary_21_urls)\n",
    "S21_FP_stats.to_csv('S21_FP_stats.csv')"
   ]
  },
  {
   "cell_type": "code",
   "execution_count": 6,
   "id": "33bdb2c7-fb2a-4f6f-826d-b1f4f105f3c0",
   "metadata": {},
   "outputs": [],
   "source": [
    "# Build Field Player Stats (2/3)\n",
    "S20_FP_stats = player_stats(players_summary_20_urls)\n",
    "S20_FP_stats.to_csv('S20_FP_stats.csv')\n",
    "S19_FP_stats = player_stats(players_summary_19_urls)\n",
    "S19_FP_stats.to_csv('S19_FP_stats.csv')"
   ]
  },
  {
   "cell_type": "code",
   "execution_count": 7,
   "id": "bf3499bc-a60e-47cb-910a-d3b0ce4359b4",
   "metadata": {},
   "outputs": [],
   "source": [
    "# Build Field Player Stats (3/3)\n",
    "S18_FP_stats = player_stats(players_summary_18_urls)\n",
    "S18_FP_stats.to_csv('S18_FP_stats.csv')\n",
    "S17_FP_stats = player_stats(players_summary_17_urls)\n",
    "S17_FP_stats.to_csv('S17_FP_stats.csv')"
   ]
  }
 ],
 "metadata": {
  "kernelspec": {
   "display_name": "Python 3 (ipykernel)",
   "language": "python",
   "name": "python3"
  },
  "language_info": {
   "codemirror_mode": {
    "name": "ipython",
    "version": 3
   },
   "file_extension": ".py",
   "mimetype": "text/x-python",
   "name": "python",
   "nbconvert_exporter": "python",
   "pygments_lexer": "ipython3",
   "version": "3.9.12"
  }
 },
 "nbformat": 4,
 "nbformat_minor": 5
}
